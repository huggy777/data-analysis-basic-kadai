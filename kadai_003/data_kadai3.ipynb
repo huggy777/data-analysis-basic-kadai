{
  "nbformat": 4,
  "nbformat_minor": 0,
  "metadata": {
    "colab": {
      "provenance": []
    },
    "kernelspec": {
      "name": "python3",
      "display_name": "Python 3"
    },
    "language_info": {
      "name": "python"
    }
  },
  "cells": [
    {
      "cell_type": "code",
      "execution_count": 7,
      "metadata": {
        "colab": {
          "base_uri": "https://localhost:8080/"
        },
        "id": "whXuJTIe8xCT",
        "outputId": "8300d4f1-7e1d-46cb-d754-5a05c9bed444"
      },
      "outputs": [
        {
          "output_type": "execute_result",
          "data": {
            "text/plain": [
              "47"
            ]
          },
          "metadata": {},
          "execution_count": 7
        }
      ],
      "source": [
        "import numpy as np\n",
        "a = np.array ([[0,1],[2,3],[4,5]])\n",
        "b = np.array ([[0,1,2,3],[4,5,6,7]])\n",
        "seki_a_b = np.dot(a,b)\n",
        "np.max(seki_a_b)"
      ]
    },
    {
      "cell_type": "code",
      "source": [
        "import numpy as np\n",
        "a = np.array ([[0,1],[2,3],[4,5]])\n",
        "b = np.array ([[0,1,2,3],[4,5,6,7]])\n",
        "np.dot(a,b)"
      ],
      "metadata": {
        "colab": {
          "base_uri": "https://localhost:8080/"
        },
        "id": "m_gILD0U9rVJ",
        "outputId": "6b2d1b49-7190-4165-8b68-ef5a22cc8495"
      },
      "execution_count": 9,
      "outputs": [
        {
          "output_type": "execute_result",
          "data": {
            "text/plain": [
              "array([[ 4,  5,  6,  7],\n",
              "       [12, 17, 22, 27],\n",
              "       [20, 29, 38, 47]])"
            ]
          },
          "metadata": {},
          "execution_count": 9
        }
      ]
    },
    {
      "cell_type": "code",
      "source": [],
      "metadata": {
        "id": "QLLFYxiE-3L8"
      },
      "execution_count": null,
      "outputs": []
    }
  ]
}